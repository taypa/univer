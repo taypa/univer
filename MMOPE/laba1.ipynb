{
 "cells": [
  {
   "cell_type": "code",
   "execution_count": 2,
   "metadata": {},
   "outputs": [],
   "source": [
    "import numpy as np\n",
    "import scipy.linalg as lng"
   ]
  },
  {
   "cell_type": "code",
   "execution_count": 3,
   "metadata": {},
   "outputs": [],
   "source": [
    "def func(x: float) -> np.array:\n",
    "    return np.array([[1, x, x**2]])\n",
    "\n",
    "def getM(p: np.array, x: np.array) -> np.array:\n",
    "    M = np.zeros(shape=(p.shape[0], p.shape[0]))\n",
    "    for i in range(p.shape[0]):\n",
    "        M += p[i] * np.dot(func(x[i]).T, func(x[i]))\n",
    "    return M\n",
    "\n",
    "def getD(M:np.array) -> np.array:\n",
    "    return lng.inv(M)\n",
    "\n",
    "def get_metric(M, D, x, p):\n",
    "\n",
    "    print('D оптимальный план')\n",
    "    print(lng.det(D))\n",
    "\n",
    "    print('A оптимальный план')\n",
    "    print(np.trace(D))\n",
    "\n",
    "    print('E оптимальный план')\n",
    "    print(lng.eigvals(D).max())\n",
    "\n",
    "    print('Ф2 оптимальный план')\n",
    "    print((1/2)* np.trace(D @ D))\n",
    "\n",
    "    print('Л оптимальный план')\n",
    "    eig_avg = 0\n",
    "    for i in range(x.shape[0]):\n",
    "        eig_avg += lng.eigvals(D)[i]\n",
    "    eig_avg /= x.shape[0]\n",
    "    res = 0\n",
    "    for i in range(x.shape[0]):\n",
    "        res += (lng.eigvals(D)[i] - eig_avg)**2\n",
    "    print(res)\n",
    "\n",
    "    print('MV оптимальный план')\n",
    "    res = D[0][0]\n",
    "    for i in range(1, x.shape[0]):\n",
    "        if D[i][i] > res:\n",
    "            res = D[i][i]\n",
    "    print(res)\n",
    "\n",
    "    print('G оптимальный план')\n",
    "\n",
    "    d = np.dot(np.dot(func(x[0]), D), func(x[0]).T)\n",
    "    for i in range(3):\n",
    "        if np.dot(np.dot(func(x[i]), D), func(x[i]).T) > d:\n",
    "            d = np.dot(np.dot(func(x[i]), D), func(x[i]).T)\n",
    "    print(d)\n"
   ]
  },
  {
   "cell_type": "code",
   "execution_count": 4,
   "metadata": {},
   "outputs": [
    {
     "name": "stdout",
     "output_type": "stream",
     "text": [
      "D оптимальный план\n",
      "10.41666666666667\n",
      "A оптимальный план\n",
      "8.333333333333334\n",
      "E оптимальный план\n",
      "(5+0j)\n",
      "Ф2 оптимальный план\n",
      "15.972222222222225\n",
      "Л оптимальный план\n",
      "(8.796296296296298+0j)\n",
      "MV оптимальный план\n",
      "4.166666666666667\n",
      "G оптимальный план\n",
      "[[5.]]\n",
      "D оптимальный план\n",
      "8.0\n",
      "A оптимальный план\n",
      "8.0\n",
      "E оптимальный план\n",
      "(5.23606797749979+0j)\n",
      "Ф2 оптимальный план\n",
      "16.0\n",
      "Л оптимальный план\n",
      "(10.666666666666668+0j)\n",
      "MV оптимальный план\n",
      "4.0\n",
      "G оптимальный план\n",
      "[[4.]]\n",
      "D оптимальный план\n",
      "11.300068726909515\n",
      "A оптимальный план\n",
      "8.51658336577827\n",
      "E оптимальный план\n",
      "(5.013350023030937+0j)\n",
      "Ф2 оптимальный план\n",
      "16.449165586744353\n",
      "Л оптимальный план\n",
      "(8.720933764738328+0j)\n",
      "MV оптимальный план\n",
      "4.258291682889135\n",
      "G оптимальный план\n",
      "[[5.30785563]]\n",
      "D оптимальный план\n",
      "6.770290567601386\n",
      "A оптимальный план\n",
      "9.009009009009006\n",
      "E оптимальный план\n",
      "(6.849178397610855+0j)\n",
      "Ф2 оптимальный план\n",
      "24.799574349123887\n",
      "Л оптимальный план\n",
      "(22.545067590112627+0j)\n",
      "MV оптимальный план\n",
      "4.504504504504504\n",
      "G оптимальный план\n",
      "[[3.003003]]\n"
     ]
    }
   ],
   "source": [
    "x = np.array([-1, 0, 1])\n",
    "p = np.array([0.2, 0.6, 0.2])\n",
    "\n",
    "M = getM(p, x)\n",
    "D = getD(M)\n",
    "get_metric(M, D, x, p)\n",
    "\n",
    "x = np.array([-1, 0, 1])\n",
    "p = np.array([0.25, 0.5, 0.25])\n",
    "M = getM(p, x)\n",
    "D = getD(M)\n",
    "get_metric(M, D, x, p)\n",
    "\n",
    "x = np.array([-1, 0, 1])\n",
    "p = np.array([0.1884, 0.6233, 0.1884])\n",
    "M = getM(p, x)\n",
    "D = getD(M)\n",
    "get_metric(M, D, x, p)\n",
    "\n",
    "x = np.array([-1, 0, 1])\n",
    "p = np.array([0.333, 0.333, 0.333])\n",
    "M = getM(p, x)\n",
    "D = getD(M)\n",
    "get_metric(M, D, x, p)"
   ]
  },
  {
   "cell_type": "code",
   "execution_count": 21,
   "metadata": {},
   "outputs": [],
   "source": [
    "x = np.array([-1, 0, 1])\n",
    "p = []\n",
    "q = []\n",
    "D_crit = []\n",
    "for i in [i * 0.01  for i in range(10, 50)]:\n",
    "    p = np.array([i, 1- (2*i), i])\n",
    "    M = getM(p, x)\n",
    "    D = getD(M)\n",
    "    q.append(i)\n",
    "    D_crit.append(lng.det(D))"
   ]
  },
  {
   "cell_type": "code",
   "execution_count": 39,
   "metadata": {},
   "outputs": [
    {
     "data": {
      "text/plain": [
       "(6.75201209960568, 0.33)"
      ]
     },
     "execution_count": 39,
     "metadata": {},
     "output_type": "execute_result"
    }
   ],
   "source": [
    "min(D_crit), q[D_crit.index(min(D_crit))]"
   ]
  },
  {
   "cell_type": "code",
   "execution_count": 41,
   "metadata": {},
   "outputs": [
    {
     "data": {
      "image/png": "[encoded data removed]",
      "text/plain": [
       "<Figure size 640x480 with 1 Axes>"
      ]
     },
     "metadata": {},
     "output_type": "display_data"
    }
   ],
   "source": [
    "import matplotlib.pyplot as plt\n",
    "\n",
    "fig = plt.figure()\n",
    "plt.plot(q, D_crit)\n",
    "plt.scatter(q[D_crit.index(min(D_crit))], min(D_crit))\n",
    "plt.title('D - критерий')\n",
    "plt.xlabel('q')\n",
    "plt.ylabel('Значение критерия')\n",
    "plt.grid(True)\n",
    "plt.text(q[D_crit.index(min(D_crit))], min(D_crit), 'min')\n",
    "plt.show()"
   ]
  }
 ],
 "metadata": {
  "kernelspec": {
   "display_name": "Python 3",
   "language": "python",
   "name": "python3"
  },
  "language_info": {
   "codemirror_mode": {
    "name": "ipython",
    "version": 3
   },
   "file_extension": ".py",
   "mimetype": "text/x-python",
   "name": "python",
   "nbconvert_exporter": "python",
   "pygments_lexer": "ipython3",
   "version": "3.12.4"
  }
 },
 "nbformat": 4,
 "nbformat_minor": 2
}
